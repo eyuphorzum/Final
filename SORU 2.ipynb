{
 "cells": [
  {
   "cell_type": "code",
   "execution_count": 3,
   "id": "fb967bda",
   "metadata": {},
   "outputs": [
    {
     "name": "stdout",
     "output_type": "stream",
     "text": [
      "       age income student credit_rating com\n",
      "      genç   high      no          fair  no\n",
      "      genç   high      no     excellent  no\n",
      "orta yaşlı   high      no          fair yes\n",
      "     yaşlı medium      no          fair yes\n",
      "     yaşlı    low     yes          fair yes\n",
      "     yaşlı    low     yes     excellent  no\n",
      "orta yaşlı    low     yes     excellent yes\n",
      "      genç medium      no          fair  no\n",
      "      genç    low     yes          fair yes\n",
      "     yaşlı medium     yes          fair yes\n",
      "      genç medium     yes     excellent yes\n",
      "orta yaşlı medium      no     excellent yes\n",
      "orta yaşlı   high     yes          fair yes\n",
      "     yaşlı medium      no     excellent  no\n"
     ]
    }
   ],
   "source": [
    "import pandas as pd\n",
    "\n",
    "data = {\n",
    "    'age':['genç','genç','orta yaşlı','yaşlı','yaşlı','yaşlı','orta yaşlı','genç','genç','yaşlı','genç','orta yaşlı','orta yaşlı','yaşlı'],\n",
    "    'income': ['high', 'high', 'high', 'medium', 'low', 'low', 'low', 'medium', 'low', 'medium', 'medium', 'medium', 'high', 'medium'],\n",
    "    'student': ['no', 'no', 'no', 'no', 'yes', 'yes', 'yes', 'no', 'yes', 'yes', 'yes', 'no', 'yes', 'no'],\n",
    "    'credit_rating': ['fair', 'excellent', 'fair', 'fair', 'fair', 'excellent', 'excellent', 'fair', 'fair', 'fair', 'excellent', 'excellent', 'fair', 'excellent'],\n",
    "    'com': ['no', 'no', 'yes', 'yes', 'yes', 'no', 'yes', 'no', 'yes', 'yes', 'yes', 'yes', 'yes', 'no']\n",
    "}\n",
    "\n",
    "df = pd.DataFrame(data)\n",
    "\n",
    "\n",
    "df = df.reset_index(drop=True)  \n",
    "print(df.to_string(index=False))"
   ]
  },
  {
   "cell_type": "code",
   "execution_count": 5,
   "id": "f9192d15",
   "metadata": {},
   "outputs": [
    {
     "name": "stdout",
     "output_type": "stream",
     "text": [
      "x örneği 'Buys computer = yes' sınıfına aittir.\n"
     ]
    }
   ],
   "source": [
    "a = 0\n",
    "b = 0\n",
    "for i in range(len(df)):\n",
    "    if df.iloc[i, 4] == \"yes\":\n",
    "        a += 1\n",
    "    else:\n",
    "        b += 1\n",
    "Cyes = a / len(df)\n",
    "Cno = b / len(df)\n",
    "\n",
    "Pagecomputeryes = 0\n",
    "Pagecomputerno = 0\n",
    "Pincomecomputeryes = 0\n",
    "Pincomecomputerno = 0\n",
    "Pstudentcomputeryes = 0\n",
    "Pstudentcomputerno = 0\n",
    "Pcreditratingcomputeryes = 0\n",
    "Pcreditratingcomputerno = 0\n",
    "\n",
    "for i in range(len(df)):\n",
    "    if df.iloc[i, 0] == \"genç\" and df.iloc[i, 4] == \"yes\":\n",
    "        Pagecomputeryes += 1\n",
    "    elif df.iloc[i, 0] == \"genç\" and df.iloc[i, 4] == \"no\":\n",
    "        Pagecomputerno += 1\n",
    "    if df.iloc[i, 1] == \"medium\" and df.iloc[i, 4] == \"yes\":\n",
    "        Pincomecomputeryes += 1\n",
    "    elif df.iloc[i, 1] == \"medium\" and df.iloc[i, 4] == \"no\":\n",
    "        Pincomecomputerno += 1\n",
    "    if df.iloc[i, 2] == \"yes\" and df.iloc[i, 4] == \"yes\":\n",
    "        Pstudentcomputeryes += 1\n",
    "    elif df.iloc[i, 2] == \"yes\" and df.iloc[i, 4] == \"no\":\n",
    "        Pstudentcomputerno += 1\n",
    "    if df.iloc[i, 3] == \"fair\" and df.iloc[i, 4] == \"yes\":\n",
    "        Pcreditratingcomputeryes += 1\n",
    "    elif df.iloc[i, 3] == \"fair\" and df.iloc[i, 4] == \"no\":\n",
    "        Pcreditratingcomputerno += 1\n",
    "\n",
    "Pacy = Pagecomputeryes / a\n",
    "Pacn = Pagecomputerno / b\n",
    "Picy = Pincomecomputeryes / a\n",
    "Picn = Pincomecomputerno / b\n",
    "Pscy = Pstudentcomputeryes / a\n",
    "Pscn = Pstudentcomputerno / b\n",
    "Pccy = Pcreditratingcomputeryes / a\n",
    "Pccn = Pcreditratingcomputerno / b\n",
    "\n",
    "PXCyes = Pacy * Picy * Pscy * Pccy\n",
    "PXCno = Pacn * Picn * Pscn * Pccn\n",
    "\n",
    "Pxcy = PXCyes * Cyes\n",
    "Pxcn = PXCno * Cno\n",
    "\n",
    "if Pxcy > Pxcn:\n",
    "    print(\"x örneği 'Buys computer = yes' sınıfına aittir.\")\n",
    "else:\n",
    "    print(\"x örneği 'Buys computer = no' sınıfına aittir.\")\n"
   ]
  }
 ],
 "metadata": {
  "kernelspec": {
   "display_name": "Python 3 (ipykernel)",
   "language": "python",
   "name": "python3"
  },
  "language_info": {
   "codemirror_mode": {
    "name": "ipython",
    "version": 3
   },
   "file_extension": ".py",
   "mimetype": "text/x-python",
   "name": "python",
   "nbconvert_exporter": "python",
   "pygments_lexer": "ipython3",
   "version": "3.11.3"
  }
 },
 "nbformat": 4,
 "nbformat_minor": 5
}
