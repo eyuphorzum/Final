{
 "cells": [
  {
   "cell_type": "code",
   "execution_count": 5,
   "id": "99849d9d",
   "metadata": {},
   "outputs": [
    {
     "name": "stdout",
     "output_type": "stream",
     "text": [
      " X  Y   Durum\n",
      " 1  3 Negatif\n",
      " 2  5 Pozitif\n",
      " 2  3 Pozitif\n",
      " 3  9 Negatif\n",
      " 4  7 Negatif\n",
      " 5  2 Pozitif\n",
      " 6  8 Pozitif\n",
      " 8  6 Negatif\n",
      "10  6 Negatif\n",
      "11  1 Negatif\n",
      "X Koordinatlari: [1, 2, 2, 3, 4, 5, 6, 8, 10, 11]\n",
      "Y Koordinatlari: [3, 5, 3, 9, 7, 2, 8, 6, 6, 1]\n"
     ]
    }
   ],
   "source": [
    "import pandas as pd\n",
    "from math import sqrt\n",
    "data = {\n",
    "    'X': [1, 2, 2, 3, 4, 5, 6, 8, 10, 11],\n",
    "    'Y': [3, 5, 3, 9, 7, 2, 8, 6, 6, 1],\n",
    "    'Durum': ['Negatif', 'Pozitif', 'Pozitif', 'Negatif', 'Negatif', 'Pozitif', 'Pozitif', 'Negatif', 'Negatif', 'Negatif']\n",
    "}\n",
    "\n",
    "df = pd.DataFrame(data)\n",
    "df = df.reset_index(drop=True)\n",
    "df.columns = ['X', 'Y', 'Durum']\n",
    "print(df.to_string(index=False))\n",
    "\n",
    "print(\"X Koordinatlari:\", df['X'].tolist())\n",
    "print(\"Y Koordinatlari:\", df['Y'].tolist())"
   ]
  },
  {
   "cell_type": "code",
   "execution_count": 4,
   "id": "b9b62ae8",
   "metadata": {},
   "outputs": [
    {
     "name": "stdout",
     "output_type": "stream",
     "text": [
      "    X  Y    Durum   Uzaklik  Siralama\n",
      "0   1  3  Negatif  6.000000       9.0\n",
      "1   2  5  Pozitif  5.385165       8.0\n",
      "2   2  3  Pozitif  5.000000       5.5\n",
      "3   3  9  Negatif  7.211103      10.0\n",
      "4   4  7  Negatif  5.000000       5.5\n",
      "5   5  2  Pozitif  2.236068       1.0\n",
      "6   6  8  Pozitif  5.099020       7.0\n",
      "7   8  6  Negatif  3.162278       2.0\n",
      "8  10  6  Negatif  4.242641       3.0\n",
      "9  11  1  Negatif  4.472136       4.0\n"
     ]
    }
   ],
   "source": [
    "import pandas as pd\n",
    "import math\n",
    "\n",
    "data = {\n",
    "    'X': [1, 2, 2, 3, 4, 5, 6, 8, 10, 11],\n",
    "    'Y': [3, 5, 3, 9, 7, 2, 8, 6, 6, 1],\n",
    "    'Durum': ['Negatif', 'Pozitif', 'Pozitif', 'Negatif', 'Negatif', 'Pozitif', 'Pozitif', 'Negatif', 'Negatif', 'Negatif']\n",
    "}\n",
    "\n",
    "df = pd.DataFrame(data)\n",
    "df = df.reset_index(drop=True)\n",
    "df.columns = ['X', 'Y', 'Durum']\n",
    "\n",
    "yenix = 7\n",
    "yeniy = 3\n",
    "\n",
    "df['Uzaklik'] = df.apply(lambda row: math.sqrt((row['X'] - yenix) ** 2 + (row['Y'] - yeniy) ** 2), axis=1)\n",
    "df['Siralama'] = df['Uzaklik'].rank()\n",
    "\n",
    "print(df)"
   ]
  },
  {
   "cell_type": "code",
   "execution_count": 6,
   "id": "83429e0e",
   "metadata": {},
   "outputs": [
    {
     "name": "stdout",
     "output_type": "stream",
     "text": [
      "Yeni örnegin sinifi: Negatif\n"
     ]
    }
   ],
   "source": [
    "import pandas as pd\n",
    "import math\n",
    "\n",
    "data = {\n",
    "    'X': [1, 2, 2, 3, 4, 5, 6, 8, 10, 11],\n",
    "    'Y': [3, 5, 3, 9, 7, 2, 8, 6, 6, 1],\n",
    "    'Durum': ['Negatif', 'Pozitif', 'Pozitif', 'Negatif', 'Negatif', 'Pozitif', 'Pozitif', 'Negatif', 'Negatif', 'Negatif']\n",
    "}\n",
    "\n",
    "df = pd.DataFrame(data)\n",
    "df = df.reset_index(drop=True)\n",
    "df.columns = ['X', 'Y', 'Durum']\n",
    "\n",
    "yenix = 7\n",
    "yeniy = 3\n",
    "\n",
    "df['Uzaklik'] = df.apply(lambda row: math.sqrt((row['X'] - yenix) ** 2 + (row['Y'] - yeniy) ** 2), axis=1)\n",
    "df = df.sort_values('Uzaklik')  \n",
    "\n",
    "enyakinkomsular = df.head(3)  \n",
    "\n",
    "siniflar = enyakinkomsular['Durum'].tolist() \n",
    "\n",
    "pozitifsayisi = siniflar.count('Pozitif') \n",
    "\n",
    "if pozitifsayisi >= 2:\n",
    "    yeniorneksinif = 'Pozitif'\n",
    "else:\n",
    "    yeniorneksinif = 'Negatif'\n",
    "\n",
    "print(\"Yeni ornegin sinifi:\", yeniorneksinif)\n"
   ]
  }
 ],
 "metadata": {
  "kernelspec": {
   "display_name": "Python 3 (ipykernel)",
   "language": "python",
   "name": "python3"
  },
  "language_info": {
   "codemirror_mode": {
    "name": "ipython",
    "version": 3
   },
   "file_extension": ".py",
   "mimetype": "text/x-python",
   "name": "python",
   "nbconvert_exporter": "python",
   "pygments_lexer": "ipython3",
   "version": "3.11.3"
  }
 },
 "nbformat": 4,
 "nbformat_minor": 5
}
