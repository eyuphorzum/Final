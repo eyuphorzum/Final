{
 "cells": [
  {
   "cell_type": "code",
   "execution_count": 3,
   "id": "b8892bfd",
   "metadata": {},
   "outputs": [
    {
     "name": "stdout",
     "output_type": "stream",
     "text": [
      "Regresyon Katsayıları:\n",
      "[[ 0.77 -0.55  0.18]\n",
      " [-0.31  0.25 -0.06]\n",
      " [-1.69  1.96 -0.84]\n",
      " [ 2.55 -3.7   2.09]]\n",
      "Yeni örneğin sınıfı: A\n"
     ]
    }
   ],
   "source": [
    "import numpy as np\n",
    "\n",
    "X = np.array([\n",
    "    [5.1, 3.5, 1.4, 0.2],\n",
    "    [4.9, 3.0, 1.4, 0.2],\n",
    "    [7.0, 3.2, 4.7, 1.4],\n",
    "    [6.4, 3.2, 4.5, 1.5],\n",
    "    [6.3, 3.3, 6.0, 2.5],\n",
    "    [5.8, 2.7, 5.1, 1.9] ])\n",
    "\n",
    "Y = np.array([\n",
    "    [1, 0, 0],\n",
    "    [1, 0, 0],\n",
    "    [0, 1, 0],\n",
    "    [0, 1, 0],\n",
    "    [0, 0, 1],\n",
    "    [0, 0, 1] ])\n",
    "\n",
    "Xtranspose = X.transpose()\n",
    "katsayilar = np.linalg.inv(Xtranspose.dot(X)).dot(Xtranspose).dot(Y)\n",
    "\n",
    "yuvarlanmiskatsayilar = np.round(katsayilar, 2)\n",
    "\n",
    "print(\"Regresyon Katsayıları:\")\n",
    "print(yuvarlanmiskatsayilar)\n",
    "\n",
    "yeniörnek = np.array([5, 3.4, 1.5, 0.2])\n",
    "tahminisinif = np.argmax(np.dot(yeniörnek, yuvarlanmiskatsayilar))\n",
    "\n",
    "siniflistesi = ['A', 'B', 'C']\n",
    "tahmin_edilen_sinif_etiketi = siniflistesi[tahminisinif]\n",
    "\n",
    "print(\"Yeni örneğin sınıfı:\", tahmin_edilen_sinif_etiketi)\n"
   ]
  }
 ],
 "metadata": {
  "kernelspec": {
   "display_name": "Python 3 (ipykernel)",
   "language": "python",
   "name": "python3"
  },
  "language_info": {
   "codemirror_mode": {
    "name": "ipython",
    "version": 3
   },
   "file_extension": ".py",
   "mimetype": "text/x-python",
   "name": "python",
   "nbconvert_exporter": "python",
   "pygments_lexer": "ipython3",
   "version": "3.11.3"
  }
 },
 "nbformat": 4,
 "nbformat_minor": 5
}
